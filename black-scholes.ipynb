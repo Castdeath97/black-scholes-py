{
 "cells": [
  {
   "cell_type": "markdown",
   "metadata": {},
   "source": [
    "## Black Scholes Introduction \n",
    "\n",
    "* Introduced by Fischer Black and Myron Scholes in 1973 paper \n",
    "* Regarded to be one of the best ways to price options (Euro call and put options)\n",
    "* Assumes:\n",
    "    - Options are European only (no American options)\n",
    "    - No dividends are paid\n",
    "    - Market movements cannot be predicted\n",
    "    - Risk free rate and volatility are constant \n",
    "    - Follows a log normal distribution \n",
    "    \n",
    "\n",
    "### The Formula \n",
    "#### elements : \n",
    "\n",
    "* $S$, price of asset at time $t$\n",
    "* $T$, the maturity of the option. Time to maturity $T-t$\n",
    "* $K$, the strike price of the option.\n",
    "* $r$, the risk-free interest rate, assumed to be a constant between $t$ and $T$\n",
    "* $\\sigma$, volatility of underlying asset\n",
    "\n",
    "#### N(d) cumulative distribution of the standard normal variable $Z$\n",
    "\n",
    "$N(d) = \\frac{1}{\\sqrt{2\\pi}} \\int_{-\\infty}^d \\mathrm{e}^{\\frac{-1}{2 x^2}}\\,\\mathrm{d}x$\n",
    "\n",
    "#### Call: \n",
    "\n",
    "$C(S,t) = SN(d_1) - K\\mathrm{e}^{-r(T-t)} N(d_2)$\n",
    "\n",
    "#### Put: \n",
    "\n",
    "$C(S,t) = K\\mathrm{e}^{-r(T-t)} N(-d_2) - SN(-d_1)$\n",
    "\n",
    "##### where: \n",
    "\n",
    "$d_1 = \\frac{ln(\\frac{S}{K}) + (r + \\frac{\\sigma^2}{2}) (T-t)} {\\sigma \\sqrt{T-t}}$\n",
    "\n",
    "$d2 = d_1 - \\sigma \\sqrt{T- t} = \\frac{ln(\\frac{S}{K}) + (r - \\frac{\\sigma^2}{2}) (T-t)} {\\sigma \\sqrt{T-t}}$\n"
   ]
  }
 ],
 "metadata": {
  "kernelspec": {
   "display_name": "Python 3",
   "language": "python",
   "name": "python3"
  },
  "language_info": {
   "codemirror_mode": {
    "name": "ipython",
    "version": 3
   },
   "file_extension": ".py",
   "mimetype": "text/x-python",
   "name": "python",
   "nbconvert_exporter": "python",
   "pygments_lexer": "ipython3",
   "version": "3.7.0"
  },
  "latex_envs": {
   "LaTeX_envs_menu_present": true,
   "autoclose": false,
   "autocomplete": true,
   "bibliofile": "biblio.bib",
   "cite_by": "apalike",
   "current_citInitial": 1,
   "eqLabelWithNumbers": true,
   "eqNumInitial": 1,
   "hotkeys": {
    "equation": "Ctrl-E",
    "itemize": "Ctrl-I"
   },
   "labels_anchors": false,
   "latex_user_defs": false,
   "report_style_numbering": false,
   "user_envs_cfg": false
  }
 },
 "nbformat": 4,
 "nbformat_minor": 2
}
