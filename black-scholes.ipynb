{
 "cells": [
  {
   "cell_type": "markdown",
   "metadata": {},
   "source": [
    "Document based on: \n",
    "* Black-Scholes Formula and Python Implementation [WWW Document], n.d. URL https://aaronschlegel.me/black-scholes-formula-python.html (accessed 5.3.19)."
   ]
  },
  {
   "cell_type": "markdown",
   "metadata": {},
   "source": [
    "## Black Scholes Introduction \n",
    "\n",
    "* Introduced by Fischer Black and Myron Scholes in 1973 paper.\n",
    "* Regarded to be one of the best ways to price options (Euro call and put options).\n",
    "* Assumes:\n",
    "    - Options are European only (no American options).\n",
    "    - No dividends are paid.\n",
    "    - Market movements cannot be predicted.\n",
    "    - Risk free rate and volatility are constant. \n",
    "    - Follows a log normal distribution.\n",
    "    \n",
    "\n",
    "### The Formula \n",
    "\n",
    "#### Basic Explanation:\n",
    "\n",
    "Need to work out:\n",
    "\n",
    "* Percentage probability of each value of the stock price in a year's time\n",
    "* Profit we make in each case (from the payoff graph)\n",
    "* Multiply the percentage probability of each value by the amount we make and add them up to get an 'expected value' for the contract.\n",
    "     - These are all obviously considered continuously with a continuous model \n",
    "* Also need to consider time value of money later ...\n",
    "    - Value of money falls so discount factor $\\mathrm{e}^{-r(T-t)}$ considered \n",
    "\n",
    "#### Elements: \n",
    "\n",
    "* $S$, price of asset at time $t$.\n",
    "* $T$, the maturity of the option. Time to maturity $T-t$.\n",
    "* $K$, the strike price of the option.\n",
    "* $r$, the risk-free interest rate, assumed to be a constant between $t$ and $T$.\n",
    "* $\\sigma$, volatility of underlying asset.\n",
    "\n",
    "#### N(d) cumulative distribution of the standard normal variable $Z$:\n",
    "\n",
    "$N(d) = \\frac{1}{\\sqrt{2\\pi}} \\int_{-\\infty}^d \\mathrm{e}^{-\\frac{1}{2} x^2}\\,dx$\n",
    "\n",
    "#### Call, based on expectation (values * probability): \n",
    "\n",
    "$C(S,t) = SN(d_1) - K\\mathrm{e}^{-r(T-t)} N(d_2)$\n",
    "\n",
    "#### Put, based on expectation (values * probability): \n",
    "\n",
    "$C(S,t) = K\\mathrm{e}^{-r(T-t)} N(-d_2) - SN(-d_1)$\n",
    "\n",
    "##### where $d_1$ and $d_2$ are derived likewise to find the probabilities: \n",
    "\n",
    "$d_1 = \\frac{ln(\\frac{S}{K}) + (r + \\frac{\\sigma^2}{2}) (T-t)} {\\sigma \\sqrt{T-t}}$\n",
    "\n",
    "$d_2 = d_1 - \\sigma \\sqrt{T- t} = \\frac{ln(\\frac{S}{K}) + (r - \\frac{\\sigma^2}{2}) (T-t)} {\\sigma \\sqrt{T-t}}$\n"
   ]
  },
  {
   "cell_type": "markdown",
   "metadata": {},
   "source": [
    "## Code\n",
    "### Imports"
   ]
  },
  {
   "cell_type": "code",
   "execution_count": 1,
   "metadata": {},
   "outputs": [],
   "source": [
    "import numpy as np \n",
    "import scipy.stats as si"
   ]
  },
  {
   "cell_type": "markdown",
   "metadata": {},
   "source": [
    "### Main Function"
   ]
  },
  {
   "cell_type": "code",
   "execution_count": 2,
   "metadata": {},
   "outputs": [],
   "source": [
    "def eu_option(S, K, T, r, sigma, option = 'call'):\n",
    "    \"\"\"Calculates put/call european option expectation using Black-Scholes \n",
    "\n",
    "    Parameters\n",
    "    ----------\n",
    "    S : float\n",
    "        Current share price\n",
    "    K : float\n",
    "        Strike price\n",
    "    T : float\n",
    "        Maturity of option (T-t)\n",
    "    r : float\n",
    "        Risk free interest rate\n",
    "    sigma : float\n",
    "        Volatility\n",
    "    option : str, optional\n",
    "        type of option, either 'call' for call (default) or 'put' for put\n",
    " \n",
    "    Returns\n",
    "    -------\n",
    "    float\n",
    "        Expectation using Black-Scholes\n",
    "\n",
    "    \"\"\"\n",
    "    \n",
    "    d1 = (np.log(S / K) + (r + 0.5 * sigma ** 2) * T) / (sigma * np.sqrt(T))\n",
    "    d2 = (np.log(S / K) + (r - 0.5 * sigma ** 2) * T) / (sigma * np.sqrt(T))\n",
    "    \n",
    "    if option == 'call':\n",
    "        result = (S * si.norm.cdf(d1, 0.0, 1.0) - K * np.exp(-r * T) * si.norm.cdf(d2, 0.0, 1.0))\n",
    "    if option == 'put':\n",
    "        result = (K * np.exp(-r * T) * si.norm.cdf(-d2, 0.0, 1.0) - S * si.norm.cdf(-d1, 0.0, 1.0))\n",
    "        \n",
    "    return result"
   ]
  },
  {
   "cell_type": "markdown",
   "metadata": {},
   "source": [
    "#### Testing the main function "
   ]
  },
  {
   "cell_type": "code",
   "execution_count": 4,
   "metadata": {},
   "outputs": [
    {
     "data": {
      "text/plain": [
       "45.15029495944084"
      ]
     },
     "execution_count": 4,
     "metadata": {},
     "output_type": "execute_result"
    }
   ],
   "source": [
    "eu_option(50, 100, 1, 0.05, 0.25, option = 'put')"
   ]
  },
  {
   "cell_type": "code",
   "execution_count": 5,
   "metadata": {},
   "outputs": [
    {
     "data": {
      "text/plain": [
       "0.027352509369436617"
      ]
     },
     "execution_count": 5,
     "metadata": {},
     "output_type": "execute_result"
    }
   ],
   "source": [
    "eu_option(50, 100, 1, 0.05, 0.25, option = 'call')"
   ]
  },
  {
   "cell_type": "markdown",
   "metadata": {},
   "source": [
    "## Black Scholes and Dividends \n",
    "\n",
    "Similar to previous formula but with new parameter $q$.\n",
    "\n",
    "### New Formula \n",
    "\n",
    "#### Elements: \n",
    "\n",
    "* $S$, price of asset at time $t$.\n",
    "* $T$, the maturity of the option. Time to maturity $T-t$.\n",
    "* $K$, the strike price of the option.\n",
    "* $r$, the risk-free interest rate, assumed to be a constant between $t$ and $T$.\n",
    "* $\\sigma$, volatility of underlying asset.\n",
    "* $q$, the dividend rate of the asset (continuous rate).\n",
    "\n",
    "\n",
    "#### Updated call, based on expectation (values * probability): \n",
    "\n",
    "Added to share price gain.\n",
    "\n",
    "$C(S,t) = Se^{-q(T-t)}N(d_1) - K\\mathrm{e}^{-r(T-t)} N(d_2)$\n",
    "\n",
    "#### Updated put, based on expectation (values * probability): \n",
    "\n",
    "Added to share price loss.\n",
    "\n",
    "$C(S,t) = K\\mathrm{e}^{-r(T-t)} N(-d_2) - Se^{-q(T-t)}N(-d_1)$\n",
    "\n",
    "##### where updated $d_1$ and $d_2$ are derived likewise to find the probabilities: \n",
    "\n",
    "$d_1 = \\frac{ln(\\frac{S}{K}) + (r - q + \\frac{\\sigma^2}{2}) (T-t)} {\\sigma \\sqrt{T-t}}$\n",
    "\n",
    "$d_2 = d_1 - \\sigma \\sqrt{T- t} = \\frac{ln(\\frac{S}{K}) + (r - q -  \\frac{\\sigma^2}{2}) (T-t)} {\\sigma \\sqrt{T-t}}$"
   ]
  },
  {
   "cell_type": "markdown",
   "metadata": {},
   "source": [
    "## Dividend Updated Code\n",
    "### Main Function"
   ]
  },
  {
   "cell_type": "code",
   "execution_count": null,
   "metadata": {},
   "outputs": [],
   "source": [
    "def eu_option_div(S, K, T, r, 1, sigma, option = 'call'):\n",
    "    \"\"\"Calculates put/call european option expectation using Black-Scholes \n",
    "\n",
    "    Parameters\n",
    "    ----------\n",
    "    S : float\n",
    "        Current share price\n",
    "    K : float\n",
    "        Strike price\n",
    "    T : float\n",
    "        Maturity of option (T-t)\n",
    "    r : float\n",
    "        Risk free interest rate\n",
    "    q : float\n",
    "        continous dividend rate\n",
    "    sigma : float\n",
    "        Volatility\n",
    "    option : str, optional\n",
    "        type of option, either 'call' for call (default) or 'put' for put\n",
    " \n",
    "    Returns\n",
    "    -------\n",
    "    float\n",
    "        Expectation using Black-Scholes\n",
    "\n",
    "    \"\"\"\n",
    "    \n",
    "    d1 = (np.log(S / K) + (r - q + 0.5 * sigma ** 2) * T) / (sigma * np.sqrt(T))\n",
    "    d2 = (np.log(S / K) + (r - q - 0.5 * sigma ** 2) * T) / (sigma * np.sqrt(T))\n",
    "    \n",
    "    if option == 'call':\n",
    "        result = (S * np.exp(-q * T) * si.norm.cdf(d1, 0.0, 1.0) - K * np.exp(-r * T) * si.norm.cdf(d2, 0.0, 1.0))\n",
    "    if option == 'put':\n",
    "        result = (K * np.exp(-r * T) * si.norm.cdf(-d2, 0.0, 1.0) - S * np.exp(-q * T) * si.norm.cdf(-d1, 0.0, 1.0))\n",
    "        \n",
    "    return result"
   ]
  }
 ],
 "metadata": {
  "kernelspec": {
   "display_name": "Python 3",
   "language": "python",
   "name": "python3"
  },
  "language_info": {
   "codemirror_mode": {
    "name": "ipython",
    "version": 3
   },
   "file_extension": ".py",
   "mimetype": "text/x-python",
   "name": "python",
   "nbconvert_exporter": "python",
   "pygments_lexer": "ipython3",
   "version": "3.7.0"
  },
  "latex_envs": {
   "LaTeX_envs_menu_present": true,
   "autoclose": false,
   "autocomplete": true,
   "bibliofile": "biblio.bib",
   "cite_by": "apalike",
   "current_citInitial": 1,
   "eqLabelWithNumbers": true,
   "eqNumInitial": 1,
   "hotkeys": {
    "equation": "Ctrl-E",
    "itemize": "Ctrl-I"
   },
   "labels_anchors": false,
   "latex_user_defs": false,
   "report_style_numbering": false,
   "user_envs_cfg": false
  }
 },
 "nbformat": 4,
 "nbformat_minor": 2
}
